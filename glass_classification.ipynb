{
 "cells": [
  {
   "cell_type": "markdown",
   "id": "e80a512c",
   "metadata": {},
   "source": [
    "# Data Loading"
   ]
  },
  {
   "cell_type": "code",
   "execution_count": 44,
   "id": "d97f436f",
   "metadata": {},
   "outputs": [],
   "source": [
    "import numpy as np\n",
    "import pandas as pd\n",
    "import matplotlib.pyplot as plt\n",
    "import seaborn as sns\n",
    "import warnings\n",
    "\n",
    "warnings.filterwarnings('ignore')"
   ]
  },
  {
   "cell_type": "code",
   "execution_count": 70,
   "id": "9c16ce93",
   "metadata": {},
   "outputs": [],
   "source": [
    "df = pd.read_csv('glass+identification/glass.csv', \n",
    "                 names=['id', 'RI', 'Na', 'Mg', 'Al', 'Si', 'K', 'Ca', 'Ba', 'Fe', 'type_of_glass'],\n",
    "                index_col=0)"
   ]
  },
  {
   "cell_type": "code",
   "execution_count": 4,
   "id": "b0576449",
   "metadata": {},
   "outputs": [
    {
     "data": {
      "text/html": [
       "<div>\n",
       "<style scoped>\n",
       "    .dataframe tbody tr th:only-of-type {\n",
       "        vertical-align: middle;\n",
       "    }\n",
       "\n",
       "    .dataframe tbody tr th {\n",
       "        vertical-align: top;\n",
       "    }\n",
       "\n",
       "    .dataframe thead th {\n",
       "        text-align: right;\n",
       "    }\n",
       "</style>\n",
       "<table border=\"1\" class=\"dataframe\">\n",
       "  <thead>\n",
       "    <tr style=\"text-align: right;\">\n",
       "      <th></th>\n",
       "      <th>RI</th>\n",
       "      <th>Na</th>\n",
       "      <th>Mg</th>\n",
       "      <th>Al</th>\n",
       "      <th>Si</th>\n",
       "      <th>K</th>\n",
       "      <th>Ca</th>\n",
       "      <th>Ba</th>\n",
       "      <th>Fe</th>\n",
       "      <th>type_of_glass</th>\n",
       "    </tr>\n",
       "    <tr>\n",
       "      <th>id</th>\n",
       "      <th></th>\n",
       "      <th></th>\n",
       "      <th></th>\n",
       "      <th></th>\n",
       "      <th></th>\n",
       "      <th></th>\n",
       "      <th></th>\n",
       "      <th></th>\n",
       "      <th></th>\n",
       "      <th></th>\n",
       "    </tr>\n",
       "  </thead>\n",
       "  <tbody>\n",
       "    <tr>\n",
       "      <th>1</th>\n",
       "      <td>1.52101</td>\n",
       "      <td>13.64</td>\n",
       "      <td>4.49</td>\n",
       "      <td>1.10</td>\n",
       "      <td>71.78</td>\n",
       "      <td>0.06</td>\n",
       "      <td>8.75</td>\n",
       "      <td>0.0</td>\n",
       "      <td>0.0</td>\n",
       "      <td>1</td>\n",
       "    </tr>\n",
       "    <tr>\n",
       "      <th>2</th>\n",
       "      <td>1.51761</td>\n",
       "      <td>13.89</td>\n",
       "      <td>3.60</td>\n",
       "      <td>1.36</td>\n",
       "      <td>72.73</td>\n",
       "      <td>0.48</td>\n",
       "      <td>7.83</td>\n",
       "      <td>0.0</td>\n",
       "      <td>0.0</td>\n",
       "      <td>1</td>\n",
       "    </tr>\n",
       "    <tr>\n",
       "      <th>3</th>\n",
       "      <td>1.51618</td>\n",
       "      <td>13.53</td>\n",
       "      <td>3.55</td>\n",
       "      <td>1.54</td>\n",
       "      <td>72.99</td>\n",
       "      <td>0.39</td>\n",
       "      <td>7.78</td>\n",
       "      <td>0.0</td>\n",
       "      <td>0.0</td>\n",
       "      <td>1</td>\n",
       "    </tr>\n",
       "    <tr>\n",
       "      <th>4</th>\n",
       "      <td>1.51766</td>\n",
       "      <td>13.21</td>\n",
       "      <td>3.69</td>\n",
       "      <td>1.29</td>\n",
       "      <td>72.61</td>\n",
       "      <td>0.57</td>\n",
       "      <td>8.22</td>\n",
       "      <td>0.0</td>\n",
       "      <td>0.0</td>\n",
       "      <td>1</td>\n",
       "    </tr>\n",
       "    <tr>\n",
       "      <th>5</th>\n",
       "      <td>1.51742</td>\n",
       "      <td>13.27</td>\n",
       "      <td>3.62</td>\n",
       "      <td>1.24</td>\n",
       "      <td>73.08</td>\n",
       "      <td>0.55</td>\n",
       "      <td>8.07</td>\n",
       "      <td>0.0</td>\n",
       "      <td>0.0</td>\n",
       "      <td>1</td>\n",
       "    </tr>\n",
       "  </tbody>\n",
       "</table>\n",
       "</div>"
      ],
      "text/plain": [
       "         RI     Na    Mg    Al     Si     K    Ca   Ba   Fe  type_of_glass\n",
       "id                                                                        \n",
       "1   1.52101  13.64  4.49  1.10  71.78  0.06  8.75  0.0  0.0              1\n",
       "2   1.51761  13.89  3.60  1.36  72.73  0.48  7.83  0.0  0.0              1\n",
       "3   1.51618  13.53  3.55  1.54  72.99  0.39  7.78  0.0  0.0              1\n",
       "4   1.51766  13.21  3.69  1.29  72.61  0.57  8.22  0.0  0.0              1\n",
       "5   1.51742  13.27  3.62  1.24  73.08  0.55  8.07  0.0  0.0              1"
      ]
     },
     "execution_count": 4,
     "metadata": {},
     "output_type": "execute_result"
    }
   ],
   "source": [
    "df.head()"
   ]
  },
  {
   "cell_type": "code",
   "execution_count": 5,
   "id": "0eaab5f5",
   "metadata": {},
   "outputs": [
    {
     "name": "stdout",
     "output_type": "stream",
     "text": [
      "<class 'pandas.core.frame.DataFrame'>\n",
      "Int64Index: 214 entries, 1 to 214\n",
      "Data columns (total 10 columns):\n",
      " #   Column         Non-Null Count  Dtype  \n",
      "---  ------         --------------  -----  \n",
      " 0   RI             214 non-null    float64\n",
      " 1   Na             214 non-null    float64\n",
      " 2   Mg             214 non-null    float64\n",
      " 3   Al             214 non-null    float64\n",
      " 4   Si             214 non-null    float64\n",
      " 5   K              214 non-null    float64\n",
      " 6   Ca             214 non-null    float64\n",
      " 7   Ba             214 non-null    float64\n",
      " 8   Fe             214 non-null    float64\n",
      " 9   type_of_glass  214 non-null    int64  \n",
      "dtypes: float64(9), int64(1)\n",
      "memory usage: 18.4 KB\n"
     ]
    }
   ],
   "source": [
    "df.info()"
   ]
  },
  {
   "cell_type": "code",
   "execution_count": 6,
   "id": "c383b839",
   "metadata": {},
   "outputs": [
    {
     "data": {
      "text/html": [
       "<div>\n",
       "<style scoped>\n",
       "    .dataframe tbody tr th:only-of-type {\n",
       "        vertical-align: middle;\n",
       "    }\n",
       "\n",
       "    .dataframe tbody tr th {\n",
       "        vertical-align: top;\n",
       "    }\n",
       "\n",
       "    .dataframe thead th {\n",
       "        text-align: right;\n",
       "    }\n",
       "</style>\n",
       "<table border=\"1\" class=\"dataframe\">\n",
       "  <thead>\n",
       "    <tr style=\"text-align: right;\">\n",
       "      <th></th>\n",
       "      <th>RI</th>\n",
       "      <th>Na</th>\n",
       "      <th>Mg</th>\n",
       "      <th>Al</th>\n",
       "      <th>Si</th>\n",
       "      <th>K</th>\n",
       "      <th>Ca</th>\n",
       "      <th>Ba</th>\n",
       "      <th>Fe</th>\n",
       "      <th>type_of_glass</th>\n",
       "    </tr>\n",
       "  </thead>\n",
       "  <tbody>\n",
       "    <tr>\n",
       "      <th>count</th>\n",
       "      <td>214.000000</td>\n",
       "      <td>214.000000</td>\n",
       "      <td>214.000000</td>\n",
       "      <td>214.000000</td>\n",
       "      <td>214.000000</td>\n",
       "      <td>214.000000</td>\n",
       "      <td>214.000000</td>\n",
       "      <td>214.000000</td>\n",
       "      <td>214.000000</td>\n",
       "      <td>214.000000</td>\n",
       "    </tr>\n",
       "    <tr>\n",
       "      <th>mean</th>\n",
       "      <td>1.518365</td>\n",
       "      <td>13.407850</td>\n",
       "      <td>2.684533</td>\n",
       "      <td>1.444907</td>\n",
       "      <td>72.650935</td>\n",
       "      <td>0.497056</td>\n",
       "      <td>8.956963</td>\n",
       "      <td>0.175047</td>\n",
       "      <td>0.057009</td>\n",
       "      <td>2.780374</td>\n",
       "    </tr>\n",
       "    <tr>\n",
       "      <th>std</th>\n",
       "      <td>0.003037</td>\n",
       "      <td>0.816604</td>\n",
       "      <td>1.442408</td>\n",
       "      <td>0.499270</td>\n",
       "      <td>0.774546</td>\n",
       "      <td>0.652192</td>\n",
       "      <td>1.423153</td>\n",
       "      <td>0.497219</td>\n",
       "      <td>0.097439</td>\n",
       "      <td>2.103739</td>\n",
       "    </tr>\n",
       "    <tr>\n",
       "      <th>min</th>\n",
       "      <td>1.511150</td>\n",
       "      <td>10.730000</td>\n",
       "      <td>0.000000</td>\n",
       "      <td>0.290000</td>\n",
       "      <td>69.810000</td>\n",
       "      <td>0.000000</td>\n",
       "      <td>5.430000</td>\n",
       "      <td>0.000000</td>\n",
       "      <td>0.000000</td>\n",
       "      <td>1.000000</td>\n",
       "    </tr>\n",
       "    <tr>\n",
       "      <th>25%</th>\n",
       "      <td>1.516522</td>\n",
       "      <td>12.907500</td>\n",
       "      <td>2.115000</td>\n",
       "      <td>1.190000</td>\n",
       "      <td>72.280000</td>\n",
       "      <td>0.122500</td>\n",
       "      <td>8.240000</td>\n",
       "      <td>0.000000</td>\n",
       "      <td>0.000000</td>\n",
       "      <td>1.000000</td>\n",
       "    </tr>\n",
       "    <tr>\n",
       "      <th>50%</th>\n",
       "      <td>1.517680</td>\n",
       "      <td>13.300000</td>\n",
       "      <td>3.480000</td>\n",
       "      <td>1.360000</td>\n",
       "      <td>72.790000</td>\n",
       "      <td>0.555000</td>\n",
       "      <td>8.600000</td>\n",
       "      <td>0.000000</td>\n",
       "      <td>0.000000</td>\n",
       "      <td>2.000000</td>\n",
       "    </tr>\n",
       "    <tr>\n",
       "      <th>75%</th>\n",
       "      <td>1.519157</td>\n",
       "      <td>13.825000</td>\n",
       "      <td>3.600000</td>\n",
       "      <td>1.630000</td>\n",
       "      <td>73.087500</td>\n",
       "      <td>0.610000</td>\n",
       "      <td>9.172500</td>\n",
       "      <td>0.000000</td>\n",
       "      <td>0.100000</td>\n",
       "      <td>3.000000</td>\n",
       "    </tr>\n",
       "    <tr>\n",
       "      <th>max</th>\n",
       "      <td>1.533930</td>\n",
       "      <td>17.380000</td>\n",
       "      <td>4.490000</td>\n",
       "      <td>3.500000</td>\n",
       "      <td>75.410000</td>\n",
       "      <td>6.210000</td>\n",
       "      <td>16.190000</td>\n",
       "      <td>3.150000</td>\n",
       "      <td>0.510000</td>\n",
       "      <td>7.000000</td>\n",
       "    </tr>\n",
       "  </tbody>\n",
       "</table>\n",
       "</div>"
      ],
      "text/plain": [
       "               RI          Na          Mg          Al          Si           K  \\\n",
       "count  214.000000  214.000000  214.000000  214.000000  214.000000  214.000000   \n",
       "mean     1.518365   13.407850    2.684533    1.444907   72.650935    0.497056   \n",
       "std      0.003037    0.816604    1.442408    0.499270    0.774546    0.652192   \n",
       "min      1.511150   10.730000    0.000000    0.290000   69.810000    0.000000   \n",
       "25%      1.516522   12.907500    2.115000    1.190000   72.280000    0.122500   \n",
       "50%      1.517680   13.300000    3.480000    1.360000   72.790000    0.555000   \n",
       "75%      1.519157   13.825000    3.600000    1.630000   73.087500    0.610000   \n",
       "max      1.533930   17.380000    4.490000    3.500000   75.410000    6.210000   \n",
       "\n",
       "               Ca          Ba          Fe  type_of_glass  \n",
       "count  214.000000  214.000000  214.000000     214.000000  \n",
       "mean     8.956963    0.175047    0.057009       2.780374  \n",
       "std      1.423153    0.497219    0.097439       2.103739  \n",
       "min      5.430000    0.000000    0.000000       1.000000  \n",
       "25%      8.240000    0.000000    0.000000       1.000000  \n",
       "50%      8.600000    0.000000    0.000000       2.000000  \n",
       "75%      9.172500    0.000000    0.100000       3.000000  \n",
       "max     16.190000    3.150000    0.510000       7.000000  "
      ]
     },
     "execution_count": 6,
     "metadata": {},
     "output_type": "execute_result"
    }
   ],
   "source": [
    "df.describe()"
   ]
  },
  {
   "cell_type": "markdown",
   "id": "af48ad20",
   "metadata": {},
   "source": [
    "# EDA + Feature Engineering"
   ]
  },
  {
   "cell_type": "code",
   "execution_count": 46,
   "id": "bc4e36ad",
   "metadata": {},
   "outputs": [
    {
     "data": {
      "text/plain": [
       "<AxesSubplot: xlabel='type_of_glass', ylabel='count'>"
      ]
     },
     "execution_count": 46,
     "metadata": {},
     "output_type": "execute_result"
    },
    {
     "data": {
      "image/png": "[encoded data removed]",
      "text/plain": [
       "<Figure size 640x480 with 1 Axes>"
      ]
     },
     "metadata": {},
     "output_type": "display_data"
    }
   ],
   "source": [
    "sns.countplot(x='type_of_glass', data=df)"
   ]
  },
  {
   "cell_type": "markdown",
   "id": "40ec16c3",
   "metadata": {},
   "source": [
    "From the docs provided with the dataset:\n",
    "> 9. Class Distribution: (out of 214 total instances)  \n",
    "    - 163 Window glass (building windows and vehicle windows)  \n",
    "       - 87 float processed  \n",
    "          - 70 building windows  \n",
    "          - 17 vehicle windows  \n",
    "       - 76 non-float processed  \n",
    "          - 76 building windows  \n",
    "          - 0 vehicle windows  \n",
    "    - 51 Non-window glass  \n",
    "       - 13 containers  \n",
    "       - 9 tableware  \n",
    "       - 29 headlamps\n",
    "       \n",
    "Using this information, we can add an extra column for whether or not the glass in a window glass or not. Categories 1, 2, 3, and 4 (although not present in this dataset) are window glass, and categories 5, 6, and 7 are non-window glass."
   ]
  },
  {
   "cell_type": "code",
   "execution_count": 71,
   "id": "219c5913",
   "metadata": {},
   "outputs": [
    {
     "data": {
      "text/html": [
       "<div>\n",
       "<style scoped>\n",
       "    .dataframe tbody tr th:only-of-type {\n",
       "        vertical-align: middle;\n",
       "    }\n",
       "\n",
       "    .dataframe tbody tr th {\n",
       "        vertical-align: top;\n",
       "    }\n",
       "\n",
       "    .dataframe thead th {\n",
       "        text-align: right;\n",
       "    }\n",
       "</style>\n",
       "<table border=\"1\" class=\"dataframe\">\n",
       "  <thead>\n",
       "    <tr style=\"text-align: right;\">\n",
       "      <th></th>\n",
       "      <th>RI</th>\n",
       "      <th>Na</th>\n",
       "      <th>Mg</th>\n",
       "      <th>Al</th>\n",
       "      <th>Si</th>\n",
       "      <th>K</th>\n",
       "      <th>Ca</th>\n",
       "      <th>Ba</th>\n",
       "      <th>Fe</th>\n",
       "      <th>type_of_glass</th>\n",
       "      <th>window</th>\n",
       "    </tr>\n",
       "    <tr>\n",
       "      <th>id</th>\n",
       "      <th></th>\n",
       "      <th></th>\n",
       "      <th></th>\n",
       "      <th></th>\n",
       "      <th></th>\n",
       "      <th></th>\n",
       "      <th></th>\n",
       "      <th></th>\n",
       "      <th></th>\n",
       "      <th></th>\n",
       "      <th></th>\n",
       "    </tr>\n",
       "  </thead>\n",
       "  <tbody>\n",
       "    <tr>\n",
       "      <th>1</th>\n",
       "      <td>1.52101</td>\n",
       "      <td>13.64</td>\n",
       "      <td>4.49</td>\n",
       "      <td>1.10</td>\n",
       "      <td>71.78</td>\n",
       "      <td>0.06</td>\n",
       "      <td>8.75</td>\n",
       "      <td>0.00</td>\n",
       "      <td>0.0</td>\n",
       "      <td>1</td>\n",
       "      <td>1</td>\n",
       "    </tr>\n",
       "    <tr>\n",
       "      <th>2</th>\n",
       "      <td>1.51761</td>\n",
       "      <td>13.89</td>\n",
       "      <td>3.60</td>\n",
       "      <td>1.36</td>\n",
       "      <td>72.73</td>\n",
       "      <td>0.48</td>\n",
       "      <td>7.83</td>\n",
       "      <td>0.00</td>\n",
       "      <td>0.0</td>\n",
       "      <td>1</td>\n",
       "      <td>1</td>\n",
       "    </tr>\n",
       "    <tr>\n",
       "      <th>3</th>\n",
       "      <td>1.51618</td>\n",
       "      <td>13.53</td>\n",
       "      <td>3.55</td>\n",
       "      <td>1.54</td>\n",
       "      <td>72.99</td>\n",
       "      <td>0.39</td>\n",
       "      <td>7.78</td>\n",
       "      <td>0.00</td>\n",
       "      <td>0.0</td>\n",
       "      <td>1</td>\n",
       "      <td>1</td>\n",
       "    </tr>\n",
       "    <tr>\n",
       "      <th>4</th>\n",
       "      <td>1.51766</td>\n",
       "      <td>13.21</td>\n",
       "      <td>3.69</td>\n",
       "      <td>1.29</td>\n",
       "      <td>72.61</td>\n",
       "      <td>0.57</td>\n",
       "      <td>8.22</td>\n",
       "      <td>0.00</td>\n",
       "      <td>0.0</td>\n",
       "      <td>1</td>\n",
       "      <td>1</td>\n",
       "    </tr>\n",
       "    <tr>\n",
       "      <th>5</th>\n",
       "      <td>1.51742</td>\n",
       "      <td>13.27</td>\n",
       "      <td>3.62</td>\n",
       "      <td>1.24</td>\n",
       "      <td>73.08</td>\n",
       "      <td>0.55</td>\n",
       "      <td>8.07</td>\n",
       "      <td>0.00</td>\n",
       "      <td>0.0</td>\n",
       "      <td>1</td>\n",
       "      <td>1</td>\n",
       "    </tr>\n",
       "    <tr>\n",
       "      <th>...</th>\n",
       "      <td>...</td>\n",
       "      <td>...</td>\n",
       "      <td>...</td>\n",
       "      <td>...</td>\n",
       "      <td>...</td>\n",
       "      <td>...</td>\n",
       "      <td>...</td>\n",
       "      <td>...</td>\n",
       "      <td>...</td>\n",
       "      <td>...</td>\n",
       "      <td>...</td>\n",
       "    </tr>\n",
       "    <tr>\n",
       "      <th>210</th>\n",
       "      <td>1.51623</td>\n",
       "      <td>14.14</td>\n",
       "      <td>0.00</td>\n",
       "      <td>2.88</td>\n",
       "      <td>72.61</td>\n",
       "      <td>0.08</td>\n",
       "      <td>9.18</td>\n",
       "      <td>1.06</td>\n",
       "      <td>0.0</td>\n",
       "      <td>7</td>\n",
       "      <td>0</td>\n",
       "    </tr>\n",
       "    <tr>\n",
       "      <th>211</th>\n",
       "      <td>1.51685</td>\n",
       "      <td>14.92</td>\n",
       "      <td>0.00</td>\n",
       "      <td>1.99</td>\n",
       "      <td>73.06</td>\n",
       "      <td>0.00</td>\n",
       "      <td>8.40</td>\n",
       "      <td>1.59</td>\n",
       "      <td>0.0</td>\n",
       "      <td>7</td>\n",
       "      <td>0</td>\n",
       "    </tr>\n",
       "    <tr>\n",
       "      <th>212</th>\n",
       "      <td>1.52065</td>\n",
       "      <td>14.36</td>\n",
       "      <td>0.00</td>\n",
       "      <td>2.02</td>\n",
       "      <td>73.42</td>\n",
       "      <td>0.00</td>\n",
       "      <td>8.44</td>\n",
       "      <td>1.64</td>\n",
       "      <td>0.0</td>\n",
       "      <td>7</td>\n",
       "      <td>0</td>\n",
       "    </tr>\n",
       "    <tr>\n",
       "      <th>213</th>\n",
       "      <td>1.51651</td>\n",
       "      <td>14.38</td>\n",
       "      <td>0.00</td>\n",
       "      <td>1.94</td>\n",
       "      <td>73.61</td>\n",
       "      <td>0.00</td>\n",
       "      <td>8.48</td>\n",
       "      <td>1.57</td>\n",
       "      <td>0.0</td>\n",
       "      <td>7</td>\n",
       "      <td>0</td>\n",
       "    </tr>\n",
       "    <tr>\n",
       "      <th>214</th>\n",
       "      <td>1.51711</td>\n",
       "      <td>14.23</td>\n",
       "      <td>0.00</td>\n",
       "      <td>2.08</td>\n",
       "      <td>73.36</td>\n",
       "      <td>0.00</td>\n",
       "      <td>8.62</td>\n",
       "      <td>1.67</td>\n",
       "      <td>0.0</td>\n",
       "      <td>7</td>\n",
       "      <td>0</td>\n",
       "    </tr>\n",
       "  </tbody>\n",
       "</table>\n",
       "<p>214 rows × 11 columns</p>\n",
       "</div>"
      ],
      "text/plain": [
       "          RI     Na    Mg    Al     Si     K    Ca    Ba   Fe  type_of_glass  \\\n",
       "id                                                                             \n",
       "1    1.52101  13.64  4.49  1.10  71.78  0.06  8.75  0.00  0.0              1   \n",
       "2    1.51761  13.89  3.60  1.36  72.73  0.48  7.83  0.00  0.0              1   \n",
       "3    1.51618  13.53  3.55  1.54  72.99  0.39  7.78  0.00  0.0              1   \n",
       "4    1.51766  13.21  3.69  1.29  72.61  0.57  8.22  0.00  0.0              1   \n",
       "5    1.51742  13.27  3.62  1.24  73.08  0.55  8.07  0.00  0.0              1   \n",
       "..       ...    ...   ...   ...    ...   ...   ...   ...  ...            ...   \n",
       "210  1.51623  14.14  0.00  2.88  72.61  0.08  9.18  1.06  0.0              7   \n",
       "211  1.51685  14.92  0.00  1.99  73.06  0.00  8.40  1.59  0.0              7   \n",
       "212  1.52065  14.36  0.00  2.02  73.42  0.00  8.44  1.64  0.0              7   \n",
       "213  1.51651  14.38  0.00  1.94  73.61  0.00  8.48  1.57  0.0              7   \n",
       "214  1.51711  14.23  0.00  2.08  73.36  0.00  8.62  1.67  0.0              7   \n",
       "\n",
       "     window  \n",
       "id           \n",
       "1         1  \n",
       "2         1  \n",
       "3         1  \n",
       "4         1  \n",
       "5         1  \n",
       "..      ...  \n",
       "210       0  \n",
       "211       0  \n",
       "212       0  \n",
       "213       0  \n",
       "214       0  \n",
       "\n",
       "[214 rows x 11 columns]"
      ]
     },
     "execution_count": 71,
     "metadata": {},
     "output_type": "execute_result"
    }
   ],
   "source": [
    "df['window'] = df['type_of_glass'].isin([1, 2, 3, 4]).astype('int64')\n",
    "df['window']"
   ]
  },
  {
   "cell_type": "markdown",
   "id": "1d26b3c4",
   "metadata": {},
   "source": [
    "From the heatmap, we can see that Mg has a strong negative correlation to the type of glass. Ba also  has a decently strong positive correlation to type of glass.  \n",
    "(While window and the type of glass also have a strong correlation, that is only to be expected because the window column was derived from the type of glass.)"
   ]
  },
  {
   "cell_type": "code",
   "execution_count": 8,
   "id": "dd08c731",
   "metadata": {},
   "outputs": [
    {
     "data": {
      "text/plain": [
       "<seaborn.axisgrid.FacetGrid at 0x7fb58ae209a0>"
      ]
     },
     "execution_count": 8,
     "metadata": {},
     "output_type": "execute_result"
    },
    {
     "data": {
      "image/png": "[encoded data removed]",
      "text/plain": [
       "<Figure size 605.361x500 with 1 Axes>"
      ]
     },
     "metadata": {},
     "output_type": "display_data"
    }
   ],
   "source": [
    "sns.displot(x='Mg', hue='type_of_glass', kind='kde', palette='Accent', data=df)"
   ]
  },
  {
   "cell_type": "markdown",
   "id": "e847d294",
   "metadata": {},
   "source": [
    "Using the distribution plot, we can see that each type of glass tends to have magnesium values that fall in certain ranges. Type 1 tends to have magnesium values between 2 and 5, with most having around 3.5. Type 2 has a wider range, but most tend to have around 0 or 3.5 percent. Type 3 has a narrower range with most of them falling between 3 and 4. Types 5 and 6 have more spread out values than the other types of glass. Most of type 7 glass have values between -1 and 1, with most hsving around 0, although some have up to values of 4."
   ]
  },
  {
   "cell_type": "code",
   "execution_count": 9,
   "id": "239de79c",
   "metadata": {},
   "outputs": [
    {
     "data": {
      "text/plain": [
       "<seaborn.axisgrid.FacetGrid at 0x7fb58b50c5b0>"
      ]
     },
     "execution_count": 9,
     "metadata": {},
     "output_type": "execute_result"
    },
    {
     "data": {
      "image/png": "[encoded data removed]",
      "text/plain": [
       "<Figure size 605.361x500 with 1 Axes>"
      ]
     },
     "metadata": {},
     "output_type": "display_data"
    }
   ],
   "source": [
    "sns.displot(x='RI', hue='type_of_glass', kind='kde', palette='Accent', data=df)"
   ]
  },
  {
   "cell_type": "markdown",
   "id": "e0a27c5c",
   "metadata": {},
   "source": [
    "# Modeling using Pipelines"
   ]
  },
  {
   "cell_type": "code",
   "execution_count": 12,
   "id": "76daf657",
   "metadata": {},
   "outputs": [],
   "source": [
    "from sklearn.pipeline import Pipeline\n",
    "from sklearn.preprocessing import StandardScaler\n",
    "from sklearn.model_selection import train_test_split\n",
    "from sklearn.svm import SVC\n",
    "from sklearn.decomposition import PCA"
   ]
  },
  {
   "cell_type": "code",
   "execution_count": 55,
   "id": "40291f30",
   "metadata": {},
   "outputs": [],
   "source": [
    "y = df.pop('type_of_glass')\n",
    "\n",
    "X_train, X_test, y_train, y_test = train_test_split(df, y, test_size=0.3, random_state=0)\n",
    "pipeline = Pipeline([('scaler', StandardScaler()), \n",
    "                     ('dim', PCA()),\n",
    "                     ('model', SVC(random_state=0))])"
   ]
  },
  {
   "cell_type": "markdown",
   "id": "ae8df75a",
   "metadata": {},
   "source": [
    "Here we create a pipeline for our model. The data will first go through standardization, dimension reduction through PCA, and will finally be modeled using SVC. PCA and SVC will be used with default parameters for now."
   ]
  },
  {
   "cell_type": "code",
   "execution_count": 14,
   "id": "5cb4f3e3",
   "metadata": {},
   "outputs": [],
   "source": [
    "from sklearn.model_selection import cross_validate"
   ]
  },
  {
   "cell_type": "code",
   "execution_count": 56,
   "id": "418d2103",
   "metadata": {},
   "outputs": [
    {
     "data": {
      "text/plain": [
       "{'fit_time': array([0.00944901, 0.00600767, 0.00519514, 0.00418091, 0.005898  ]),\n",
       " 'score_time': array([0.00337601, 0.00247407, 0.00165701, 0.00154996, 0.00174999]),\n",
       " 'test_score': array([0.76666667, 0.7       , 0.7       , 0.73333333, 0.79310345])}"
      ]
     },
     "execution_count": 56,
     "metadata": {},
     "output_type": "execute_result"
    }
   ],
   "source": [
    "scores = cross_validate(pipeline, X_train, y_train)\n",
    "scores"
   ]
  },
  {
   "cell_type": "code",
   "execution_count": 57,
   "id": "c2c2ce63",
   "metadata": {
    "scrolled": true
   },
   "outputs": [
    {
     "data": {
      "text/plain": [
       "0.7386206896551725"
      ]
     },
     "execution_count": 57,
     "metadata": {},
     "output_type": "execute_result"
    }
   ],
   "source": [
    "scores['test_score'].mean()"
   ]
  },
  {
   "cell_type": "markdown",
   "id": "b928502f",
   "metadata": {},
   "source": [
    "We can now cross-validate to check our accuracy. The average test score is around 73.86% which we can try to improve."
   ]
  },
  {
   "cell_type": "markdown",
   "id": "d2f6c816",
   "metadata": {},
   "source": [
    "## Hyper-Parameter Tuning"
   ]
  },
  {
   "cell_type": "markdown",
   "id": "7a32f556",
   "metadata": {},
   "source": [
    "### Selecting Method for Dimension Reduction and Modeling"
   ]
  },
  {
   "cell_type": "code",
   "execution_count": 17,
   "id": "dddee589",
   "metadata": {},
   "outputs": [],
   "source": [
    "from sklearn.model_selection import GridSearchCV\n",
    "from sklearn.linear_model import LogisticRegression, SGDClassifier\n",
    "from sklearn.neighbors import KNeighborsClassifier\n",
    "from sklearn.tree import DecisionTreeClassifier\n",
    "from sklearn.ensemble import RandomForestClassifier\n",
    "from sklearn.feature_selection import SelectKBest, mutual_info_classif"
   ]
  },
  {
   "cell_type": "code",
   "execution_count": 58,
   "id": "ec9393c0",
   "metadata": {},
   "outputs": [],
   "source": [
    "params = [{'dim__n_components': [2, 5, 8], \n",
    "          'model': [LogisticRegression(), SGDClassifier(), KNeighborsClassifier(), \n",
    "                    DecisionTreeClassifier(), RandomForestClassifier(), SVC()]},\n",
    "         {'dim': [SelectKBest(mutual_info_classif)], \n",
    "          'dim__k': [2, 5, 8], \n",
    "          'model': [LogisticRegression(), SGDClassifier(), KNeighborsClassifier(), \n",
    "                    DecisionTreeClassifier(), RandomForestClassifier(), SVC()]}]"
   ]
  },
  {
   "cell_type": "markdown",
   "id": "9ad0123e",
   "metadata": {},
   "source": [
    "After importing other algorithms to try, we can create a dictionary of parameters we'd like to try out. The first element is the number of features for dimension reduction, and the second parameter is a list of models we'd like to try. All of the models are being used with their default parameters, and then we can tune the parameters for the one model that had the best results."
   ]
  },
  {
   "cell_type": "code",
   "execution_count": 59,
   "id": "78785521",
   "metadata": {
    "scrolled": true
   },
   "outputs": [
    {
     "data": {
      "text/plain": [
       "GridSearchCV(estimator=Pipeline(steps=[('scaler', StandardScaler()),\n",
       "                                       ('dim', PCA()),\n",
       "                                       ('model', SVC(random_state=0))]),\n",
       "             param_grid=[{'dim__n_components': [2, 5, 8],\n",
       "                          'model': [LogisticRegression(), SGDClassifier(),\n",
       "                                    KNeighborsClassifier(),\n",
       "                                    DecisionTreeClassifier(),\n",
       "                                    RandomForestClassifier(), SVC()]},\n",
       "                         {'dim': [SelectKBest(k=8,\n",
       "                                              score_func=<function mutual_info_classif at 0x7fb58d260b80>)],\n",
       "                          'dim__k': [2, 5, 8],\n",
       "                          'model': [LogisticRegression(), SGDClassifier(),\n",
       "                                    KNeighborsClassifier(),\n",
       "                                    DecisionTreeClassifier(),\n",
       "                                    RandomForestClassifier(), SVC()]}])"
      ]
     },
     "execution_count": 59,
     "metadata": {},
     "output_type": "execute_result"
    }
   ],
   "source": [
    "grid = GridSearchCV(pipeline, param_grid=params)\n",
    "grid.fit(X_train, y_train)"
   ]
  },
  {
   "cell_type": "code",
   "execution_count": 60,
   "id": "30986b10",
   "metadata": {},
   "outputs": [
    {
     "data": {
      "text/plain": [
       "{'dim': SelectKBest(k=8, score_func=<function mutual_info_classif at 0x7fb58d260b80>),\n",
       " 'dim__k': 8,\n",
       " 'model': RandomForestClassifier()}"
      ]
     },
     "execution_count": 60,
     "metadata": {},
     "output_type": "execute_result"
    }
   ],
   "source": [
    "grid.best_params_"
   ]
  },
  {
   "cell_type": "markdown",
   "id": "2640d044",
   "metadata": {},
   "source": [
    "The best parameters were reducing dimensionality using SelectKBest with k=8 with the Random Forest Classifier model."
   ]
  },
  {
   "cell_type": "code",
   "execution_count": 61,
   "id": "5926c06a",
   "metadata": {},
   "outputs": [
    {
     "data": {
      "text/plain": [
       "Pipeline(steps=[('scaler', StandardScaler()),\n",
       "                ('dim',\n",
       "                 SelectKBest(k=8,\n",
       "                             score_func=<function mutual_info_classif at 0x7fb58d260b80>)),\n",
       "                ('model', RandomForestClassifier(random_state=0))])"
      ]
     },
     "execution_count": 61,
     "metadata": {},
     "output_type": "execute_result"
    }
   ],
   "source": [
    "pipeline.set_params(dim=SelectKBest(k=8, score_func=mutual_info_classif), model=RandomForestClassifier(random_state=0))"
   ]
  },
  {
   "cell_type": "markdown",
   "id": "411b6cd4",
   "metadata": {},
   "source": [
    "We can change the steps of our pipeline to match the best parameters."
   ]
  },
  {
   "cell_type": "markdown",
   "id": "4f4e45e6",
   "metadata": {},
   "source": [
    "### Hyper-Parameter Tuning the Model"
   ]
  },
  {
   "cell_type": "code",
   "execution_count": 62,
   "id": "37d5383e",
   "metadata": {},
   "outputs": [],
   "source": [
    "params = {'model__n_estimators': [100, 150, 200, 250], \n",
    "          'model__min_samples_split': [2, 3, 5], \n",
    "          'model__min_samples_leaf': [1, 2, 3]}"
   ]
  },
  {
   "cell_type": "markdown",
   "id": "efbba63a",
   "metadata": {},
   "source": [
    "Now that we have our model selected, it's time to optimize it. Above is a new set of parameters that will be tuned."
   ]
  },
  {
   "cell_type": "code",
   "execution_count": 64,
   "id": "d5557e5f",
   "metadata": {},
   "outputs": [
    {
     "data": {
      "text/plain": [
       "GridSearchCV(estimator=Pipeline(steps=[('scaler', StandardScaler()),\n",
       "                                       ('dim',\n",
       "                                        SelectKBest(k=8,\n",
       "                                                    score_func=<function mutual_info_classif at 0x7fb58d260b80>)),\n",
       "                                       ('model',\n",
       "                                        RandomForestClassifier(random_state=0))]),\n",
       "             param_grid={'model__min_samples_leaf': [1, 2, 3],\n",
       "                         'model__min_samples_split': [2, 3, 5],\n",
       "                         'model__n_estimators': [100, 150, 200, 250]})"
      ]
     },
     "execution_count": 64,
     "metadata": {},
     "output_type": "execute_result"
    }
   ],
   "source": [
    "grid = GridSearchCV(pipeline, param_grid=params)\n",
    "grid.fit(X_train, y_train)"
   ]
  },
  {
   "cell_type": "code",
   "execution_count": 65,
   "id": "7f9119d7",
   "metadata": {},
   "outputs": [
    {
     "data": {
      "text/plain": [
       "{'model__min_samples_leaf': 1,\n",
       " 'model__min_samples_split': 5,\n",
       " 'model__n_estimators': 150}"
      ]
     },
     "execution_count": 65,
     "metadata": {},
     "output_type": "execute_result"
    }
   ],
   "source": [
    "grid.best_params_"
   ]
  },
  {
   "cell_type": "code",
   "execution_count": 66,
   "id": "eaee891a",
   "metadata": {},
   "outputs": [
    {
     "data": {
      "text/plain": [
       "Pipeline(steps=[('scaler', StandardScaler()),\n",
       "                ('dim',\n",
       "                 SelectKBest(k=8,\n",
       "                             score_func=<function mutual_info_classif at 0x7fb58d260b80>)),\n",
       "                ('model',\n",
       "                 RandomForestClassifier(min_samples_split=5, n_estimators=150,\n",
       "                                        random_state=0))])"
      ]
     },
     "execution_count": 66,
     "metadata": {},
     "output_type": "execute_result"
    }
   ],
   "source": [
    "# pipeline.set_params(model__min_samples_leaf=2, model__min_samples_split=3, model__n_estimators=250)\n",
    "pipeline.set_params(model__min_samples_split=5, model__n_estimators=150)"
   ]
  },
  {
   "cell_type": "markdown",
   "id": "6fce392d",
   "metadata": {},
   "source": [
    "After running GridSearchCV, we get our optimal parameters, and we get change the parameters of the model in our pipeline."
   ]
  },
  {
   "cell_type": "code",
   "execution_count": 67,
   "id": "48819784",
   "metadata": {},
   "outputs": [
    {
     "data": {
      "text/plain": [
       "{'fit_time': array([0.21096492, 0.20200896, 0.19612598, 0.19934893, 0.21891499]),\n",
       " 'score_time': array([0.01336503, 0.01490784, 0.01356101, 0.01315999, 0.01458097]),\n",
       " 'test_score': array([0.8       , 0.8       , 0.8       , 0.86666667, 0.82758621])}"
      ]
     },
     "execution_count": 67,
     "metadata": {},
     "output_type": "execute_result"
    }
   ],
   "source": [
    "scores = cross_validate(pipeline, X_train, y_train)\n",
    "scores"
   ]
  },
  {
   "cell_type": "code",
   "execution_count": 68,
   "id": "b2b13729",
   "metadata": {},
   "outputs": [
    {
     "data": {
      "text/plain": [
       "0.8188505747126438"
      ]
     },
     "execution_count": 68,
     "metadata": {},
     "output_type": "execute_result"
    }
   ],
   "source": [
    "scores['test_score'].mean()"
   ]
  },
  {
   "cell_type": "markdown",
   "id": "164a70f4",
   "metadata": {},
   "source": [
    "After running cross-validation on our model again, we see that our mean test score has had a marginal increase from  73.86% to 81.89%."
   ]
  }
 ],
 "metadata": {
  "kernelspec": {
   "display_name": "Python 3 (ipykernel)",
   "language": "python",
   "name": "python3"
  },
  "language_info": {
   "codemirror_mode": {
    "name": "ipython",
    "version": 3
   },
   "file_extension": ".py",
   "mimetype": "text/x-python",
   "name": "python",
   "nbconvert_exporter": "python",
   "pygments_lexer": "ipython3",
   "version": "3.8.1"
  }
 },
 "nbformat": 4,
 "nbformat_minor": 5
}
